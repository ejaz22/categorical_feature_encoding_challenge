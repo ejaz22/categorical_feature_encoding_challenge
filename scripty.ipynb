
{
 "cells": [
  {
   "cell_type": "markdown",
   "metadata": {},
   "source": [
    "### categorical feature encoding"
   ]
  },
  {
   "cell_type": "code",
   "execution_count": null,
   "metadata": {},
   "outputs": [],
   "source": [
    "# 0.50000, 0.57334 - 0.61590"
   ]
  },
  {
   "cell_type": "code",
   "execution_count": 23,
   "metadata": {},
   "outputs": [],
   "source": [
    "# imports\n",
    "import pandas as pd\n",
    "import numpy as np\n",
    "import seaborn as sns\n",
    "import matplotlib.pyplot as plt\n",
    "from sklearn.model_selection import train_test_split\n",
    "from sklearn import linear_model\n",
    "from sklearn.metrics import mean_squared_error\n",
    "import warnings\n",
    "warnings.filterwarnings('ignore')\n",
    "%matplotlib inline"
   ]
  },
  {
   "cell_type": "code",
   "execution_count": 24,
   "metadata": {},
   "outputs": [],
   "source": [
    "# read files\n",
    "df_test = pd.read_csv(r'...kaggle\\categorical\\test.csv',index_col='id')\n",
    "df_train = pd.read_csv(r'...kaggle\\categorical\\train.csv',index_col='id')\n",
    "df = pd.concat([df_train, df_test],axis=0,ignore_index=True) # combine training and testing data"
   ]
  },
  {
   "cell_type": "code",
   "execution_count": 25,
   "metadata": {},
   "outputs": [],
   "source": [
    "# unitlity function to describe dataframe summary\n",
    "def desc(df):\n",
    "    summ = pd.DataFrame(df.dtypes,columns=['Data_Types'])\n",
    "    summ = summ.reset_index()\n",
    "    summ['Columns'] = summ['index']\n",
    "    summ = summ[['Columns','Data_Types']]\n",
    "    summ['Missing'] = df.isnull().sum().values    \n",
    "    summ['Uniques'] = df.nunique().values\n",
    "    return summ\n",
    "\n",
    "# utility function to analyse missing values\n",
    "def nulls_report(df):\n",
    "    nulls = df.isnull().sum()\n",
    "    nulls = nulls[df.isnull().sum()>0].sort_values(ascending=False)\n",
    "    nulls_report = pd.concat([nulls, nulls / df.shape[0]], axis=1, keys=['Missing_Values','Missing_Ratio'])\n",
    "    return nulls_report\n"
   ]
  },
  {
   "cell_type": "code",
   "execution_count": null,
   "metadata": {},
   "outputs": [],
   "source": [
    "desc(df_train)"
   ]
  },
  {
   "cell_type": "code",
   "execution_count": 26,
   "metadata": {},
   "outputs": [
    {
     "data": {
      "text/plain": [
       "<matplotlib.axes._subplots.AxesSubplot at 0x24d01cc4358>"
      ]
     },
     "execution_count": 26,
     "metadata": {},
     "output_type": "execute_result"
    },
    {
     "data": {
      "image/png": "[encoded data removed]",
      "text/plain": [
       "<Figure size 432x288 with 1 Axes>"
      ]
     },
     "metadata": {
      "needs_background": "light"
     },
     "output_type": "display_data"
    }
   ],
   "source": [
    "# distribution of target variable\n",
    "df_train['target'].value_counts(normalize = True).plot(kind='barh',title='Distribution of Target Variable')"
   ]
  },
  {
   "cell_type": "code",
   "execution_count": 27,
   "metadata": {},
   "outputs": [],
   "source": [
    "# Binary Encdoing\n",
    "# bin_o and bin_1 need not be converted as these are already converted\n",
    "# bin_3and bin_4 are binary variables representing T/F and Y/N. We can convert them to 0 or 1.\n",
    "df['bin_3'] = df['bin_3'].map({'T':1,'F':0})\n",
    "df['bin_4'] = df['bin_4'].map({'Y':1,'N':0})"
   ]
  },
  {
   "cell_type": "code",
   "execution_count": 28,
   "metadata": {},
   "outputs": [],
   "source": [
    "# Ordinal Encoding\n",
    "# ord_0 need not to be converted\n",
    "# ord_1 and ord_2 has ordinal data. We can manually encode these variables.\n",
    "# ( ord_3,ord_4,ord_5 are of hight cardinality)\n",
    "\n",
    "# mapping dict for ord_1 and ord_2\n",
    "d1 = {'Grandmaster': 5, 'Expert': 4 , 'Novice':1 , 'Contributor':2 , 'Master': 3}\n",
    "d2 = {'Cold': 2, 'Hot':4, 'Lava Hot': 6, 'Boiling Hot': 5, 'Freezing': 1, 'Warm': 3}\n",
    "\n",
    "df['ord_1'] = df['ord_1'].map(d1)\n",
    "df['ord_2'] = df['ord_2'].map(d2)\n",
    "\n",
    "# medium cardinality columns -- ord_3 and ord_4\n",
    "df['ord_3'] = df['ord_3'].astype('category')\n",
    "df['ord_4'] = df['ord_4'].astype('category')\n",
    "\n",
    "# mapping dict for ord_3 and ord_4\n",
    "d3 = dict(zip(df['ord_3'],df['ord_3'].cat.codes))\n",
    "d4 = dict(zip(df['ord_4'],df['ord_4'].cat.codes))\n",
    "\n",
    "df['ord_3'] = df['ord_3'].map(d3)\n",
    "df['ord_4'] = df['ord_4'].map(d4)\n",
    "\n",
    "\n",
    "# high cardinality column -- ord_5\n",
    "li = sorted(list(set(df['ord_5'].values)))\n",
    "d5 = dict(zip(li, range(len(li))))  # mapping dict for ord_5\n",
    "df['ord_5'] = df['ord_5'].map(d5)"
   ]
  },
  {
   "cell_type": "code",
   "execution_count": 29,
   "metadata": {},
   "outputs": [],
   "source": [
    "# one hot encoding for low cardinality column : nom_0 to nom_4\n",
    "df = pd.get_dummies(df, columns=['nom_0', 'nom_1', 'nom_2', 'nom_3', 'nom_4'],\n",
    "                        prefix=['nom_0', 'nom_1', 'nom_2', 'nom_3', 'nom_4'], \n",
    "                        drop_first=True)"
   ]
  },
  {
   "cell_type": "code",
   "execution_count": 30,
   "metadata": {},
   "outputs": [],
   "source": [
    "# encoding hex feature\n",
    "from sklearn.preprocessing import LabelEncoder\n",
    "le = LabelEncoder()\n",
    "features_hex = ['nom_5', 'nom_6', 'nom_7', 'nom_8', 'nom_9']\n",
    "\n",
    "for col in features_hex:\n",
    "    le.fit(df[col])\n",
    "    df[col] = le.transform(df[col])\n"
   ]
  },
  {
   "cell_type": "code",
   "execution_count": 31,
   "metadata": {},
   "outputs": [
    {
     "data": {
      "image/png": "[encoded data removed]",
      "text/plain": [
       "<Figure size 432x288 with 1 Axes>"
      ]
     },
     "metadata": {
      "needs_background": "light"
     },
     "output_type": "display_data"
    }
   ],
   "source": [
    "# cyclical features into 2d sin-cos features\n",
    "\n",
    "df['day_sin'] = np.sin(2*np.pi * df['day']/7)\n",
    "df['day_cos'] = np.cos(2*np.pi * df['day']/7)\n",
    "df['month_sin'] = np.sin(2*np.pi * df['month']/12)\n",
    "df['month_cos'] = np.cos(2*np.pi * df['month']/12)\n",
    "df.drop(columns=['day','month'],inplace=True)\n",
    "\n",
    "# plot features in 2d\n",
    "df.sample(1000).plot.scatter('month_sin','month_cos').set_aspect('equal')"
   ]
  },
  {
   "cell_type": "code",
   "execution_count": 38,
   "metadata": {
    "scrolled": true
   },
   "outputs": [
    {
     "data": {
      "text/html": [
       "<div>\n",
       "<style scoped>\n",
       "    .dataframe tbody tr th:only-of-type {\n",
       "        vertical-align: middle;\n",
       "    }\n",
       "\n",
       "    .dataframe tbody tr th {\n",
       "        vertical-align: top;\n",
       "    }\n",
       "\n",
       "    .dataframe thead th {\n",
       "        text-align: right;\n",
       "    }\n",
       "</style>\n",
       "<table border=\"1\" class=\"dataframe\">\n",
       "  <thead>\n",
       "    <tr style=\"text-align: right;\">\n",
       "      <th></th>\n",
       "      <th>Missing_Values</th>\n",
       "      <th>Missing_Ratio</th>\n",
       "    </tr>\n",
       "  </thead>\n",
       "  <tbody>\n",
       "  </tbody>\n",
       "</table>\n",
       "</div>"
      ],
      "text/plain": [
       "Empty DataFrame\n",
       "Columns: [Missing_Values, Missing_Ratio]\n",
       "Index: []"
      ]
     },
     "execution_count": 38,
     "metadata": {},
     "output_type": "execute_result"
    }
   ],
   "source": [
    "nulls_report(X_train)"
   ]
  },
  {
   "cell_type": "code",
   "execution_count": 33,
   "metadata": {},
   "outputs": [],
   "source": [
    "from sklearn.model_selection import train_test_split\n",
    "\n",
    "# training , testing and target\n",
    "y_train = df_train['target']\n",
    "X_train = df[:len(df_train)].drop(['target'],axis=1)\n",
    "X_test = df[len(df_train):].drop(['target'],axis=1)\n",
    "\n",
    "\n",
    "# split train and validation data\n",
    "X_train, X_val, y_train, y_val = train_test_split(X_train, y_train, test_size = 0.001, random_state=0)\n"
   ]
  },
  {
   "cell_type": "code",
   "execution_count": null,
   "metadata": {},
   "outputs": [],
   "source": [
    "\n",
    "from sklearn.model_selection import GridSearchCV\n",
    "from sklearn.linear_model import LogisticRegression\n",
    "lr = LogisticRegression(solver='lbfgs')\n",
    "\n",
    "lr_prarams = {'C': [0.100, 0.150, 0.120, 0.125, 0.130, 0.135, 0.140, 0.145, 0.150]}\n",
    "grid = GridSearchCV(lr,lr_prarams,scoring='roc_auc', cv=5, n_jobs=-1, verbose=0)\n",
    "grid.fit(X_train,y_train)"
   ]
  },
  {
   "cell_type": "code",
   "execution_count": 34,
   "metadata": {},
   "outputs": [],
   "source": [
    "from sklearn.linear_model import LogisticRegression\n",
    "lr = LogisticRegression(solver='lbfgs',C=0.14)"
   ]
  },
  {
   "cell_type": "code",
   "execution_count": 35,
   "metadata": {},
   "outputs": [
    {
     "data": {
      "text/plain": [
       "LogisticRegression(C=0.14, class_weight=None, dual=False, fit_intercept=True,\n",
       "                   intercept_scaling=1, l1_ratio=None, max_iter=100,\n",
       "                   multi_class='warn', n_jobs=None, penalty='l2',\n",
       "                   random_state=None, solver='lbfgs', tol=0.0001, verbose=0,\n",
       "                   warm_start=False)"
      ]
     },
     "execution_count": 35,
     "metadata": {},
     "output_type": "execute_result"
    }
   ],
   "source": [
    "lr.fit(X_train,y_train)"
   ]
  },
  {
   "cell_type": "code",
   "execution_count": 36,
   "metadata": {},
   "outputs": [],
   "source": [
    "# function to evaluate model\n",
    "from sklearn.model_selection import cross_val_score\n",
    "from sklearn.metrics import roc_auc_score\n",
    "from sklearn.metrics import confusion_matrix\n",
    "\n",
    "\n",
    "def eval_model(m):\n",
    "    y_pred = m.predict(X_val)\n",
    "    ra = roc_auc_score(y_val,y_pred)\n",
    "    sc = cross_val_score(m,X_train,y_train,scoring=\"roc_auc\",cv=3)\n",
    "    sm = sc.mean()\n",
    "    print(\"ROC_AUC is {0}\\nCross Val is {1}\".format(ra,sm))"
   ]
  },
  {
   "cell_type": "code",
   "execution_count": 44,
   "metadata": {},
   "outputs": [
    {
     "data": {
      "text/plain": [
       "MLPClassifier(activation='relu', alpha=0.0001, batch_size='auto', beta_1=0.9,\n",
       "              beta_2=0.999, early_stopping=False, epsilon=1e-08,\n",
       "              hidden_layer_sizes=(50,), learning_rate='constant',\n",
       "              learning_rate_init=0.1, max_iter=100, momentum=0.9,\n",
       "              n_iter_no_change=10, nesterovs_momentum=True, power_t=0.5,\n",
       "              random_state=1, shuffle=True, solver='sgd', tol=0.0001,\n",
       "              validation_fraction=0.1, verbose=None, warm_start=False)"
      ]
     },
     "execution_count": 44,
     "metadata": {},
     "output_type": "execute_result"
    }
   ],
   "source": [
    "from sklearn.neural_network import MLPClassifier\n",
    "mlp = MLPClassifier(hidden_layer_sizes=(50,), max_iter=100, alpha=1e-4,\n",
    "                    solver='sgd', verbose=None, tol=1e-4, random_state=1,\n",
    "                    learning_rate_init=0.1)\n",
    "\n",
    "mlp.fit(X_train,y_train)"
   ]
  },
  {
   "cell_type": "code",
   "execution_count": 19,
   "metadata": {},
   "outputs": [
    {
     "name": "stdout",
     "output_type": "stream",
     "text": [
      "ROC_AUC is 0.5\n",
      "Cross Val is 0.5\n"
     ]
    }
   ],
   "source": [
    "eval_model(mlp)"
   ]
  },
  {
   "cell_type": "code",
   "execution_count": 37,
   "metadata": {},
   "outputs": [
    {
     "data": {
      "text/plain": [
       "array([[204,  72],\n",
       "       [ 10,  14]], dtype=int64)"
      ]
     },
     "execution_count": 37,
     "metadata": {},
     "output_type": "execute_result"
    }
   ],
   "source": [
    "from sklearn.metrics import confusion_matrix\n",
    "y_pred = lr.predict(X_val)\n",
    "confusion_matrix(y_pred,y_val)\n"
   ]
  },
  {
   "cell_type": "code",
   "execution_count": 41,
   "metadata": {},
   "outputs": [
    {
     "data": {
      "text/plain": [
       "array([[0.53813293, 0.46186707],\n",
       "       [0.44002913, 0.55997087],\n",
       "       [0.62158313, 0.37841687],\n",
       "       ...,\n",
       "       [0.39072912, 0.60927088],\n",
       "       [0.75500462, 0.24499538],\n",
       "       [0.67898449, 0.32101551]])"
      ]
     },
     "execution_count": 41,
     "metadata": {},
     "output_type": "execute_result"
    }
   ],
   "source": [
    "lr.predict_proba(X_test)"
   ]
  },
  {
   "cell_type": "code",
   "execution_count": 45,
   "metadata": {},
   "outputs": [],
   "source": [
    "# predict probability and generate submission file\n",
    "y_pred = mlp.predict_proba(X_test)[:, 1]\n",
    "df_sub = pd.DataFrame({'id':df_test.index,'target':y_pred})\n",
    "df_sub.to_csv(r'...kaggle\\categorical\\submission.csv',index=False)"
   ]
  }
 ],
 "metadata": {
  "kernelspec": {
   "display_name": "Python 3",
   "language": "python",
   "name": "python3"
  },
  "language_info": {
   "codemirror_mode": {
    "name": "ipython",
    "version": 3
   },
   "file_extension": ".py",
   "mimetype": "text/x-python",
   "name": "python",
   "nbconvert_exporter": "python",
   "pygments_lexer": "ipython3",
   "version": "3.7.3"
  }
 },
 "nbformat": 4,
 "nbformat_minor": 2
}
